{
 "metadata": {
  "language_info": {
   "codemirror_mode": {
    "name": "ipython",
    "version": 3
   },
   "file_extension": ".py",
   "mimetype": "text/x-python",
   "name": "python",
   "nbconvert_exporter": "python",
   "pygments_lexer": "ipython3",
   "version": "3.7.9-final"
  },
  "orig_nbformat": 2,
  "kernelspec": {
   "name": "python3",
   "display_name": "Python 3",
   "language": "python"
  }
 },
 "nbformat": 4,
 "nbformat_minor": 2,
 "cells": [
  {
   "cell_type": "code",
   "execution_count": 2,
   "metadata": {},
   "outputs": [],
   "source": [
    "import pandas as pd"
   ]
  },
  {
   "cell_type": "code",
   "execution_count": 3,
   "metadata": {},
   "outputs": [],
   "source": [
    "ZomatoData = pd.read_csv('zomato.csv')\n",
    "ZomatoData = ZomatoData.drop_duplicates().reset_index(drop=True)"
   ]
  },
  {
   "cell_type": "code",
   "execution_count": 10,
   "metadata": {},
   "outputs": [
    {
     "output_type": "stream",
     "name": "stdout",
     "text": [
      "<class 'pandas.core.frame.DataFrame'>\nRangeIndex: 9351 entries, 0 to 9350\nData columns (total 21 columns):\n #   Column                Non-Null Count  Dtype  \n---  ------                --------------  -----  \n 0   Restaurant ID         9351 non-null   int64  \n 1   Restaurant Name       9351 non-null   object \n 2   Country Code          9351 non-null   int64  \n 3   City                  9351 non-null   object \n 4   Address               9351 non-null   object \n 5   Locality              9351 non-null   object \n 6   Locality Verbose      9351 non-null   object \n 7   Longitude             9351 non-null   float64\n 8   Latitude              9351 non-null   float64\n 9   Cuisines              9351 non-null   object \n 10  Average Cost for two  9351 non-null   int64  \n 11  Currency              9351 non-null   object \n 12  Has Table booking     9351 non-null   int64  \n 13  Has Online delivery   9351 non-null   int64  \n 14  Is delivering now     9351 non-null   int64  \n 15  Switch to order menu  9351 non-null   int64  \n 16  Price range           9351 non-null   int64  \n 17  Aggregate rating      9351 non-null   float64\n 18  Rating color          9351 non-null   object \n 19  Rating text           9351 non-null   object \n 20  Votes                 9351 non-null   int64  \ndtypes: float64(3), int64(9), object(9)\nmemory usage: 1.5+ MB\n"
     ]
    }
   ],
   "source": [
    "ZomatoData.info()"
   ]
  },
  {
   "cell_type": "code",
   "execution_count": null,
   "metadata": {},
   "outputs": [],
   "source": []
  },
  {
   "cell_type": "code",
   "execution_count": 19,
   "metadata": {},
   "outputs": [
    {
     "output_type": "execute_result",
     "data": {
      "text/plain": [
       "      Restaurant ID Restaurant Name  Country Code  City  \\\n",
       "9105          12009   Kayani Bakery             1  Pune   \n",
       "\n",
       "                                           Address     Locality  \\\n",
       "9105  6, DEH, Koyani Road, Camp, East Street, Pune  East Street   \n",
       "\n",
       "       Locality Verbose  Longitude   Latitude Cuisines  ...  \\\n",
       "9105  East Street, Pune  73.879831  18.514863   Bakery  ...   \n",
       "\n",
       "                Currency Has Table booking  Has Online delivery  \\\n",
       "9105  Indian Rupees(Rs.)                 0                    1   \n",
       "\n",
       "      Is delivering now  Switch to order menu  Price range  Aggregate rating  \\\n",
       "9105                  0                     0            1               4.5   \n",
       "\n",
       "      Rating color Rating text Votes  \n",
       "9105        3F7E00   Excellent  4379  \n",
       "\n",
       "[1 rows x 21 columns]"
      ],
      "text/html": "<div>\n<style scoped>\n    .dataframe tbody tr th:only-of-type {\n        vertical-align: middle;\n    }\n\n    .dataframe tbody tr th {\n        vertical-align: top;\n    }\n\n    .dataframe thead th {\n        text-align: right;\n    }\n</style>\n<table border=\"1\" class=\"dataframe\">\n  <thead>\n    <tr style=\"text-align: right;\">\n      <th></th>\n      <th>Restaurant ID</th>\n      <th>Restaurant Name</th>\n      <th>Country Code</th>\n      <th>City</th>\n      <th>Address</th>\n      <th>Locality</th>\n      <th>Locality Verbose</th>\n      <th>Longitude</th>\n      <th>Latitude</th>\n      <th>Cuisines</th>\n      <th>...</th>\n      <th>Currency</th>\n      <th>Has Table booking</th>\n      <th>Has Online delivery</th>\n      <th>Is delivering now</th>\n      <th>Switch to order menu</th>\n      <th>Price range</th>\n      <th>Aggregate rating</th>\n      <th>Rating color</th>\n      <th>Rating text</th>\n      <th>Votes</th>\n    </tr>\n  </thead>\n  <tbody>\n    <tr>\n      <th>9105</th>\n      <td>12009</td>\n      <td>Kayani Bakery</td>\n      <td>1</td>\n      <td>Pune</td>\n      <td>6, DEH, Koyani Road, Camp, East Street, Pune</td>\n      <td>East Street</td>\n      <td>East Street, Pune</td>\n      <td>73.879831</td>\n      <td>18.514863</td>\n      <td>Bakery</td>\n      <td>...</td>\n      <td>Indian Rupees(Rs.)</td>\n      <td>0</td>\n      <td>1</td>\n      <td>0</td>\n      <td>0</td>\n      <td>1</td>\n      <td>4.5</td>\n      <td>3F7E00</td>\n      <td>Excellent</td>\n      <td>4379</td>\n    </tr>\n  </tbody>\n</table>\n<p>1 rows × 21 columns</p>\n</div>"
     },
     "metadata": {},
     "execution_count": 19
    }
   ],
   "source": [
    "ZomatoData[(ZomatoData[\"Average Cost for two\"] < 300) & (ZomatoData[\"City\"] == \"Pune\")]"
   ]
  },
  {
   "cell_type": "code",
   "execution_count": null,
   "metadata": {},
   "outputs": [],
   "source": []
  }
 ]
}