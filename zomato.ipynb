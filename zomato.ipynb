{
 "metadata": {
  "language_info": {
   "codemirror_mode": {
    "name": "ipython",
    "version": 3
   },
   "file_extension": ".py",
   "mimetype": "text/x-python",
   "name": "python",
   "nbconvert_exporter": "python",
   "pygments_lexer": "ipython3",
   "version": "3.9.1"
  },
  "orig_nbformat": 2,
  "kernelspec": {
   "name": "python3",
   "display_name": "Python 3.9.1 64-bit",
   "metadata": {
    "interpreter": {
     "hash": "fe8c250ecc65b9c312d9907a34fb25acb60718286033c0aea00268d1f05cce17"
    }
   }
  }
 },
 "nbformat": 4,
 "nbformat_minor": 2,
 "cells": [
  {
   "cell_type": "code",
   "execution_count": 4,
   "metadata": {},
   "outputs": [],
   "source": [
    "import pandas as pd"
   ]
  },
  {
   "cell_type": "code",
   "execution_count": 12,
   "metadata": {},
   "outputs": [],
   "source": [
    "ZomatoData = pd.read_csv('zomato.csv')\n",
    "ZomatoData = ZomatoData.drop_duplicates().reset_index(drop=True)"
   ]
  },
  {
   "cell_type": "code",
   "execution_count": 16,
   "metadata": {},
   "outputs": [
    {
     "output_type": "execute_result",
     "data": {
      "text/plain": [
       "New Delhi       5481\n",
       "Gurgaon         1117\n",
       "Noida           1080\n",
       "Faridabad        251\n",
       "Mysore            40\n",
       "Amritsar          40\n",
       "Patna             40\n",
       "Aurangabad        40\n",
       "Mumbai            40\n",
       "Bhubaneshwar      40\n",
       "Mangalore         40\n",
       "Ranchi            40\n",
       "Allahabad         40\n",
       "Ludhiana          39\n",
       "Vadodara          39\n",
       "Vizag             39\n",
       "Varanasi          39\n",
       "Puducherry        39\n",
       "Dehradun          39\n",
       "Nagpur            39\n",
       "Kanpur            39\n",
       "Agra              39\n",
       "Kochi             38\n",
       "Lucknow           38\n",
       "Surat             38\n",
       "Indore            38\n",
       "Hyderabad         37\n",
       "Bangalore         37\n",
       "Chennai           37\n",
       "Jaipur            37\n",
       "Guwahati          37\n",
       "Coimbatore        37\n",
       "Ahmedabad         37\n",
       "Kolkata           36\n",
       "Nashik            36\n",
       "Pune              36\n",
       "Bhopal            34\n",
       "Goa               32\n",
       "Chandigarh        29\n",
       "Ghaziabad         25\n",
       "Gangtok           20\n",
       "Ooty              20\n",
       "Shimla            20\n",
       "Mohali             6\n",
       "Secunderabad       2\n",
       "Panchkula          2\n",
       "Nasik              2\n",
       "Name: City, dtype: int64"
      ]
     },
     "metadata": {},
     "execution_count": 16
    }
   ],
   "source": [
    "ZomatoData.City.value_counts()"
   ]
  },
  {
   "cell_type": "code",
   "execution_count": 13,
   "metadata": {},
   "outputs": [
    {
     "output_type": "execute_result",
     "data": {
      "text/plain": [
       "   Restaurant ID                        Restaurant Name  Country Code  City  \\\n",
       "0        3400025                             Jahanpanah             1  Agra   \n",
       "1        3400341                    Rangrezz Restaurant             1  Agra   \n",
       "2        3400005                Time2Eat - Mama Chicken             1  Agra   \n",
       "3        3400005         Mama Chicken Mama Franky House             1  Agra   \n",
       "4        3400021  Chokho Jeeman Marwari Jain Bhojanalya             1  Agra   \n",
       "\n",
       "                                             Address     Locality  \\\n",
       "0  E 23, Shopping Arcade, Sadar Bazaar, Agra Cant...   Agra Cantt   \n",
       "1  E-20, Shopping Arcade, Sadar Bazaar, Agra Cant...   Agra Cantt   \n",
       "2        Main Market, Sadar Bazaar, Agra Cantt, Agra   Agra Cantt   \n",
       "3  A-17, Shoping Arcade, Sadar Bazaar, Agra Cantt...   Agra Cantt   \n",
       "4  1/48, Delhi Gate, Station Road, Raja Mandi, Ci...  Civil Lines   \n",
       "\n",
       "    Locality Verbose  Longitude   Latitude  \\\n",
       "0   Agra Cantt, Agra  78.011544  27.161661   \n",
       "1   Agra Cantt, Agra   0.000000   0.000000   \n",
       "2   Agra Cantt, Agra  78.011608  27.160832   \n",
       "3   Agra Cantt, Agra  78.011627  27.161854   \n",
       "4  Civil Lines, Agra  77.998364  27.195759   \n",
       "\n",
       "                                            Cuisines  ...            Currency  \\\n",
       "0                              North Indian, Mughlai  ...  Indian Rupees(Rs.)   \n",
       "1                              North Indian, Mughlai  ...  Indian Rupees(Rs.)   \n",
       "2                                       North Indian  ...  Indian Rupees(Rs.)   \n",
       "3  North Indian, Mughlai, Rolls, Chinese, Fast Fo...  ...  Indian Rupees(Rs.)   \n",
       "4                                         Rajasthani  ...  Indian Rupees(Rs.)   \n",
       "\n",
       "  Has Table booking  Has Online delivery  Is delivering now  \\\n",
       "0                 0                    0                  0   \n",
       "1                 0                    0                  0   \n",
       "2                 0                    0                  0   \n",
       "3                 0                    1                  0   \n",
       "4                 0                    1                  0   \n",
       "\n",
       "   Switch to order menu  Price range  Aggregate rating  Rating color  \\\n",
       "0                     0            3               3.9        9ACD32   \n",
       "1                     0            2               3.5        9ACD32   \n",
       "2                     0            2               3.6        9ACD32   \n",
       "3                     0            2               4.3        5BA829   \n",
       "4                     0            2               4.5        3F7E00   \n",
       "\n",
       "  Rating text  Votes  \n",
       "0        Good    140  \n",
       "1        Good     71  \n",
       "2        Good     94  \n",
       "3   Very Good  31399  \n",
       "4   Excellent   4944  \n",
       "\n",
       "[5 rows x 21 columns]"
      ],
      "text/html": "<div>\n<style scoped>\n    .dataframe tbody tr th:only-of-type {\n        vertical-align: middle;\n    }\n\n    .dataframe tbody tr th {\n        vertical-align: top;\n    }\n\n    .dataframe thead th {\n        text-align: right;\n    }\n</style>\n<table border=\"1\" class=\"dataframe\">\n  <thead>\n    <tr style=\"text-align: right;\">\n      <th></th>\n      <th>Restaurant ID</th>\n      <th>Restaurant Name</th>\n      <th>Country Code</th>\n      <th>City</th>\n      <th>Address</th>\n      <th>Locality</th>\n      <th>Locality Verbose</th>\n      <th>Longitude</th>\n      <th>Latitude</th>\n      <th>Cuisines</th>\n      <th>...</th>\n      <th>Currency</th>\n      <th>Has Table booking</th>\n      <th>Has Online delivery</th>\n      <th>Is delivering now</th>\n      <th>Switch to order menu</th>\n      <th>Price range</th>\n      <th>Aggregate rating</th>\n      <th>Rating color</th>\n      <th>Rating text</th>\n      <th>Votes</th>\n    </tr>\n  </thead>\n  <tbody>\n    <tr>\n      <th>0</th>\n      <td>3400025</td>\n      <td>Jahanpanah</td>\n      <td>1</td>\n      <td>Agra</td>\n      <td>E 23, Shopping Arcade, Sadar Bazaar, Agra Cant...</td>\n      <td>Agra Cantt</td>\n      <td>Agra Cantt, Agra</td>\n      <td>78.011544</td>\n      <td>27.161661</td>\n      <td>North Indian, Mughlai</td>\n      <td>...</td>\n      <td>Indian Rupees(Rs.)</td>\n      <td>0</td>\n      <td>0</td>\n      <td>0</td>\n      <td>0</td>\n      <td>3</td>\n      <td>3.9</td>\n      <td>9ACD32</td>\n      <td>Good</td>\n      <td>140</td>\n    </tr>\n    <tr>\n      <th>1</th>\n      <td>3400341</td>\n      <td>Rangrezz Restaurant</td>\n      <td>1</td>\n      <td>Agra</td>\n      <td>E-20, Shopping Arcade, Sadar Bazaar, Agra Cant...</td>\n      <td>Agra Cantt</td>\n      <td>Agra Cantt, Agra</td>\n      <td>0.000000</td>\n      <td>0.000000</td>\n      <td>North Indian, Mughlai</td>\n      <td>...</td>\n      <td>Indian Rupees(Rs.)</td>\n      <td>0</td>\n      <td>0</td>\n      <td>0</td>\n      <td>0</td>\n      <td>2</td>\n      <td>3.5</td>\n      <td>9ACD32</td>\n      <td>Good</td>\n      <td>71</td>\n    </tr>\n    <tr>\n      <th>2</th>\n      <td>3400005</td>\n      <td>Time2Eat - Mama Chicken</td>\n      <td>1</td>\n      <td>Agra</td>\n      <td>Main Market, Sadar Bazaar, Agra Cantt, Agra</td>\n      <td>Agra Cantt</td>\n      <td>Agra Cantt, Agra</td>\n      <td>78.011608</td>\n      <td>27.160832</td>\n      <td>North Indian</td>\n      <td>...</td>\n      <td>Indian Rupees(Rs.)</td>\n      <td>0</td>\n      <td>0</td>\n      <td>0</td>\n      <td>0</td>\n      <td>2</td>\n      <td>3.6</td>\n      <td>9ACD32</td>\n      <td>Good</td>\n      <td>94</td>\n    </tr>\n    <tr>\n      <th>3</th>\n      <td>3400005</td>\n      <td>Mama Chicken Mama Franky House</td>\n      <td>1</td>\n      <td>Agra</td>\n      <td>A-17, Shoping Arcade, Sadar Bazaar, Agra Cantt...</td>\n      <td>Agra Cantt</td>\n      <td>Agra Cantt, Agra</td>\n      <td>78.011627</td>\n      <td>27.161854</td>\n      <td>North Indian, Mughlai, Rolls, Chinese, Fast Fo...</td>\n      <td>...</td>\n      <td>Indian Rupees(Rs.)</td>\n      <td>0</td>\n      <td>1</td>\n      <td>0</td>\n      <td>0</td>\n      <td>2</td>\n      <td>4.3</td>\n      <td>5BA829</td>\n      <td>Very Good</td>\n      <td>31399</td>\n    </tr>\n    <tr>\n      <th>4</th>\n      <td>3400021</td>\n      <td>Chokho Jeeman Marwari Jain Bhojanalya</td>\n      <td>1</td>\n      <td>Agra</td>\n      <td>1/48, Delhi Gate, Station Road, Raja Mandi, Ci...</td>\n      <td>Civil Lines</td>\n      <td>Civil Lines, Agra</td>\n      <td>77.998364</td>\n      <td>27.195759</td>\n      <td>Rajasthani</td>\n      <td>...</td>\n      <td>Indian Rupees(Rs.)</td>\n      <td>0</td>\n      <td>1</td>\n      <td>0</td>\n      <td>0</td>\n      <td>2</td>\n      <td>4.5</td>\n      <td>3F7E00</td>\n      <td>Excellent</td>\n      <td>4944</td>\n    </tr>\n  </tbody>\n</table>\n<p>5 rows × 21 columns</p>\n</div>"
     },
     "metadata": {},
     "execution_count": 13
    }
   ],
   "source": [
    "ZomatoData.head()"
   ]
  },
  {
   "cell_type": "code",
   "execution_count": null,
   "metadata": {},
   "outputs": [],
   "source": []
  },
  {
   "cell_type": "code",
   "execution_count": null,
   "metadata": {},
   "outputs": [],
   "source": []
  }
 ]
}